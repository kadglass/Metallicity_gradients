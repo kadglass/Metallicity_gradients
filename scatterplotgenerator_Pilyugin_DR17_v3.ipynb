{
 "cells": [
  {
   "cell_type": "code",
   "execution_count": null,
   "metadata": {},
   "outputs": [],
   "source": [
    "# Nate Brunacini, nbrunaci@u.rochester.edu\n",
    "# Supervisor: Kelly A. Douglass\n",
    "# This file includes methods to find the gradient (slope of the trend line) of the 3D (or \"R\") metallicities of \n",
    "# each spaxel in a MaNGA galaxy and to create a scatter plot of those gradient values."
   ]
  },
  {
   "cell_type": "code",
   "execution_count": 1,
   "metadata": {},
   "outputs": [
    {
     "name": "stderr",
     "output_type": "stream",
     "text": [
      "/home/nbrunaci/.local/lib/python3.8/site-packages/marvin/core/exceptions.py:50: UserWarning: cannot initiate Sentry error reporting: [Errno 6] No such device or address.\n",
      "  warnings.warn('cannot initiate Sentry error reporting: {0}.'.format(str(ee)),\n",
      "\u001b[0;34m[INFO]: \u001b[0mNo release version set. Setting default to DR17\n",
      "\u001b[1;33m[WARNING]: \u001b[0m\u001b[0;39mpath /home/nbrunaci/sas/mangawork/manga/spectro/redux/v3_1_1/drpall-v3_1_1.fits cannot be found. Setting drpall to None.\u001b[0m \u001b[0;36m(MarvinUserWarning)\u001b[0m\n",
      "\u001b[1;33m[WARNING]: \u001b[0m\u001b[0;39mpath /home/nbrunaci/sas/mangawork/manga/spectro/analysis/v3_1_1/3.1.0/dapall-v3_1_1-3.1.0.fits cannot be found. Setting dapall to None.\u001b[0m \u001b[0;36m(MarvinUserWarning)\u001b[0m\n"
     ]
    }
   ],
   "source": [
    "# Import packages\n",
    "from astropy.io import fits\n",
    "import deproject_spaxel as dps\n",
    "import numpy as np\n",
    "import numpy.ma as ma\n",
    "import math\n",
    "import matplotlib.pyplot as plt\n",
    "%matplotlib inline\n",
    "from astropy.table import Table\n",
    "from scipy.stats import linregress\n",
    "from scipy.optimize import curve_fit\n",
    "import fit_functions as ff\n",
    "import os\n",
    "\n",
    "import marvin\n",
    "from marvin.tools.maps import Maps"
   ]
  },
  {
   "cell_type": "code",
   "execution_count": 2,
   "metadata": {},
   "outputs": [],
   "source": [
    "# Takes in plateifu and table of kinematic center data, returns coordinates of kinematic center of galaxy\n",
    "def getKinematicCenter(plateifu,c_table):\n",
    "    plate, ifu = plateifu.split('-')\n",
    "    bool_index = np.logical_and(c_table['MaNGA_plate'] == int(plate), c_table['MaNGA_IFU'] == int(ifu))\n",
    "    x_coord = c_table['x0_map'][bool_index].data[0]\n",
    "    y_coord = c_table['y0_map'][bool_index].data[0]\n",
    "    return (y_coord,x_coord)\n",
    "    \n",
    "# x0_map,y0_map: pass in as (y,x); same as (row,column)\n",
    "\n",
    "# Returns coordinates of photometric center of the galaxy with the given plateifu\n",
    "def getPhotometricCenter(plateifu):\n",
    "    maps = Maps(plateifu)\n",
    "#     print(maps.datamodel)\n",
    "    gfluxmap = maps['spx_mflux']\n",
    "    center = np.unravel_index(np.argmax(gfluxmap.data),gfluxmap.shape)\n",
    "    return center"
   ]
  },
  {
   "cell_type": "code",
   "execution_count": 26,
   "metadata": {},
   "outputs": [],
   "source": [
    "# Takes in plateifu, data from drpall file, and table of kinematic centers, generates lists of normalized radius from galactic center and metallicity values, and outputs them in a dictionary\n",
    "def radius_lists(plateifu,drp,c_table):\n",
    "    \n",
    "    plate = plateifu.split('-')[0]\n",
    "    q0 = 0.2\n",
    "    \n",
    "    metall_filename = 'MetallicityFITS_Pilyugin_DR17_v3_Final/'+plate+'/'+plateifu+'_Pilyugin_DR17_v3.fits'\n",
    "    \n",
    "    if not os.path.isfile(metall_filename):\n",
    "        print('here')\n",
    "        return None\n",
    "    \n",
    "    with fits.open(metall_filename, mode='update') as hdul:\n",
    "        index = np.where(drp['PLATEIFU'] == plateifu)[0][0]# Index of galaxy with the given plateifu; there is only one value but it is nested, hence the [0][0]\n",
    "        \n",
    "        if drp['MNGTARG1'][index] <= 0:\n",
    "            return None\n",
    "        \n",
    "        rot_angle = drp['NSA_ELPETRO_PHI'][index] * math.pi/180# Rotation angle; converted from degrees to radians        \n",
    "        axisRatio = drp['NSA_ELPETRO_BA'][index]# Ratio of axes; semiminor to semimajor\n",
    "        \n",
    "        if axisRatio < 0:\n",
    "            return None\n",
    "        \n",
    "#         # Temporary; for debugging purposes\n",
    "#         duds = np.where(drp['NSA_ELPETRO_BA']==-9999)\n",
    "#         print('Number of duds:',len(duds[0]))\n",
    "#         for dud in duds[0]:\n",
    "#             print(dud)\n",
    "#         print('This axisRatio value is causing a NaN:',axisRatio)\n",
    "        \n",
    "        # Calculate angle of inclination\n",
    "        cosi2 = (axisRatio**2 - q0**2)/(1 - q0**2)\n",
    "        if cosi2 < 0:\n",
    "            cosi2 = 0\n",
    "        inc_angle = np.arccos(np.sqrt(cosi2))\n",
    "        \n",
    "        re = drp['NSA_ELPETRO_TH50_R'][index]# 50% light radius in SDSS r-band (in arcsec)\n",
    "        \n",
    "#         # Get the kinematic center of the galaxy; if there is none in the data file, use photometric center\n",
    "#         center = getKinematicCenter(plateifu,c_table)\n",
    "#         if center == -99.0:# No kinematic center if value is -99\n",
    "#             center = getPhotometricCenter(plateifu)\n",
    "        # Get the photometric center of the galaxy; NOTE: No longer using kinematic centers due to lack of data\n",
    "        center = getPhotometricCenter(plateifu)\n",
    "        \n",
    "        # Arrays of values to be plotted\n",
    "        radii_R = ma.array(np.zeros(hdul[1].shape),mask=hdul[3].data)# List of normalized radii between each spaxel and the galactic center for spaxels with R metallicity values\n",
    "        R = ma.array(hdul[1].data,mask=hdul[3].data)# List of R metallicity values excluding those at masked spaxels\n",
    "        ivars = ma.array(hdul[2].data,mask=hdul[3].data)# List of inverse variance values excluding those at masked spaxels\n",
    "        \n",
    "        # Add points to lists\n",
    "        for i in range(hdul[1].shape[0]):\n",
    "            for j in range(hdul[1].shape[1]):# (i,j) is actually (y,x)\n",
    "                # Calcuate deprojected radius for the spaxel\n",
    "                coords = (i,j)\n",
    "                rad_spax,_ = dps.deproject_spaxel(coords,center,rot_angle,inc_angle)#Radius in units of spaxels\n",
    "                rad_arcsec = rad_spax * 0.5# Radius in arcseconds\n",
    "#                 rad_normalized = rad_arcsec/re\n",
    "#                 radii_R.data[col,row] = rad_arcsec/re# WRONG\n",
    "                radii_R.data[i,j] = rad_arcsec/re\n",
    "    \n",
    "    return {\n",
    "            'radii_R': radii_R.compressed(),\n",
    "            'R': R.compressed(),\n",
    "            'ivars': ivars.compressed(),\n",
    "            'r50':re\n",
    "        }"
   ]
  },
  {
   "cell_type": "code",
   "execution_count": 27,
   "metadata": {},
   "outputs": [],
   "source": [
    "# Linear Model Function. For use by curve_fit in the calculate_fits function\n",
    "# WARNING: If changing this function or using a different model function, must change the corresponding function \n",
    "# in fit_functions.py\n",
    "def lmf(x,m,b):\n",
    "    return m*x+b"
   ]
  },
  {
   "cell_type": "code",
   "execution_count": 28,
   "metadata": {},
   "outputs": [],
   "source": [
    "# Takes in dictionary of radius and metallicity lists such as that output by the radius_lists function and outputs the parameters of the line of best fit\n",
    "def calculate_fits(r_lists):\n",
    "    \n",
    "    # Calculate slope, y-intercept, and covariance matrix using 1/ivars as weights\n",
    "    # If using a model function other than lmf, must change the corresponding function in fit_functions.py\n",
    "    #R_params = linregress(r_lists['radii_R'], r_lists['R'])\n",
    "    R_params,covar_matrix = curve_fit(lmf,r_lists['radii_R'],r_lists['R'],sigma=1.0/ma.sqrt(r_lists['ivars']))\n",
    "    \n",
    "#     print(R_params)# For testing\n",
    "    \n",
    "    return {\n",
    "        'R_params': {'slope': R_params[0], 'intercept':R_params[1]},\n",
    "        'covar': covar_matrix,\n",
    "        'r50':r_lists['r50']\n",
    "    }"
   ]
  },
  {
   "cell_type": "code",
   "execution_count": 41,
   "metadata": {},
   "outputs": [],
   "source": [
    "# Takes in output from radius_lists and calculate_fits functions as well as plateifu and plots scatter plots (metallicity \n",
    "# versus normalized radius) with lines of best fit\n",
    "def scatterplots(r_lists,fit_params,plateifu):\n",
    "    \n",
    "    # Set up figure\n",
    "    fig, plots = plt.subplots(1)\n",
    "#     fig.set_figheight(5)#2.5)\n",
    "    fig.set_figwidth(5)\n",
    "    \n",
    "    # Plot the data\n",
    "#     plots.plot(r_lists['radii_R'],r_lists['R'],'.')\n",
    "    plots.errorbar(r_lists['radii_R'],r_lists['R'],yerr=1.0/ma.sqrt(r_lists['ivars']),fmt='.',ecolor='lightsteelblue',zorder=0)\n",
    "    \n",
    "    # Set title and axis labels\n",
    "#     plots.set_title(plateifu)\n",
    "    plots.set_ylabel('12 + log(O/H)')\n",
    "    plots.set_xlabel('$r / r_e$')\n",
    "    \n",
    "    # Graph trend line\n",
    "    x_R = np.linspace(min(r_lists['radii_R']),max(r_lists['radii_R']))#(0.0,1.6)\n",
    "    y_R = fit_params['R_params']['slope'] * x_R + fit_params['R_params']['intercept']\n",
    "    dy = ff.fit_uncertainty([fit_params['R_params']['slope'],fit_params['R_params']['intercept']],fit_params['covar'],x_R)\n",
    "    plots.plot(x_R,y_R,'r',zorder=1)\n",
    "    plots.fill_between(x_R,y_R-dy,y_R+dy,color='mistyrose')\n",
    "    \n",
    "    # Set x and y limits\n",
    "#     plt.xlim([0,2.75])\n",
    "#     plt.ylim([8,8.8])\n",
    "    ylim_lower = lmf(2.75,fit_params['R_params']['slope'],fit_params['R_params']['intercept'])\n",
    "    ylim_upper = fit_params['R_params']['intercept']\n",
    "    plt.ylim([ylim_lower-0.25,ylim_upper+0.25])\n",
    "    \n",
    "    # Show/save figure\n",
    "    plt.tight_layout()\n",
    "#     plt.show()# To save plots and not show them, comment this line and uncomment all lines below\n",
    "#     plate = plateifu.split('-')[0]\n",
    "#     foldername = #'ScatterPlots_Pilyugin_DR17_v3/'+plate+'/'\n",
    "#     # Creating folder\n",
    "#     if not os.path.exists(foldername):\n",
    "#         os.mkdir(foldername)\n",
    "#     filename = foldername+plateifu+'_Pilyugin_DR17_v3.png'\n",
    "#     plt.savefig(filename,dpi=300)\n",
    "#     plt.close()\n",
    "\n",
    "    plate = plateifu.split('-')[0]\n",
    "    filename = 'Thesis_Scatterplot_'+plateifu+'_Pilyugin_DR17_v3.png'\n",
    "    plt.savefig(filename,dpi=500)"
   ]
  },
  {
   "cell_type": "code",
   "execution_count": 42,
   "metadata": {},
   "outputs": [],
   "source": [
    "# Wrapper function to call the above functions all at once. Takes in plateifu, data from drpall file, and table of kinematic \n",
    "# centers, calculates the parameters of the line of best fit of the normalized radius versus metallicity \n",
    "# data, and creates scatter plots\n",
    "def find_gradient(plateifu,drp,c_table):\n",
    "    r_lists = radius_lists(plateifu,drp,c_table)\n",
    "    \n",
    "    if r_lists is None:\n",
    "        print(\"NONE\")\n",
    "        return None\n",
    "    \n",
    "    trend = calculate_fits(r_lists)\n",
    "    scatterplots(r_lists,trend,plateifu)\n",
    "    return trend"
   ]
  },
  {
   "cell_type": "code",
   "execution_count": 43,
   "metadata": {
    "scrolled": false
   },
   "outputs": [
    {
     "name": "stderr",
     "output_type": "stream",
     "text": [
      "\u001b[1;33m[WARNING]: \u001b[0m\u001b[0;39mWarning: converting a masked element to nan.\u001b[0m \u001b[0;36m(UserWarning)\u001b[0m\n"
     ]
    },
    {
     "data": {
      "image/png": "[encoded data removed]",
      "text/plain": [
       "<Figure size 360x288 with 1 Axes>"
      ]
     },
     "metadata": {
      "needs_background": "light"
     },
     "output_type": "display_data"
    }
   ],
   "source": [
    "# Calling the functions\n",
    "with fits.open('drpall-v3_1_1.fits', memmap=True) as drpall:\n",
    "    c_table = Table.read('DRP-master_file_vflag_BB_smooth1p85_mapFit_N2O2_HIdr2_morph_noWords_v6.txt',format='ascii.commented_header')\n",
    "    find_gradient('10001-12701',drpall[1].data,c_table)#('9487-12701',drpall[1].data,c_table)#('8335-12701')#('7443-12705')\n",
    "#     plt.savefig('PosterMaps/Scatter_8335-12701')\n",
    "# Test galaxies: 10001-12701, 9487-12701\n",
    "# PROBLEM GALAXY EXAMPLE: 10141-12701"
   ]
  },
  {
   "cell_type": "code",
   "execution_count": null,
   "metadata": {},
   "outputs": [],
   "source": [
    "# For 10001-12701:\n",
    "# No weights: [-1.34782284e-05  8.43920308e+00]\n",
    "# With sigma = 1/ivar: [-0.04633539  8.4820325 ]; looks like it fits well"
   ]
  },
  {
   "cell_type": "code",
   "execution_count": 61,
   "metadata": {},
   "outputs": [
    {
     "name": "stdout",
     "output_type": "stream",
     "text": [
      "Done!\n"
     ]
    }
   ],
   "source": [
    "testplateifu = '10143-12702'#'10141-12701'#'10001-12702'\n",
    "testplate = testplateifu.split('-')[0]\n",
    "\n",
    "with fits.open('MetallicityFITS_Pilyugin_DR17_v3/'+testplate+'/'+testplateifu+'_Pilyugin_DR17_v3.fits', mode='update') as hdul:\n",
    "#     print(hdul.info())\n",
    "    \n",
    "#     # Mask out any spaxels that have a metallicity value of -999.0, which seems to be creating issues\n",
    "#     testmask = hdul[3].data\n",
    "#     for rindex,row in enumerate(testmask):\n",
    "#         for vindex,val in enumerate(row):\n",
    "#             if hdul[1].data[rindex][vindex] == -999:\n",
    "#                 testmask[rindex][vindex] = True\n",
    "    \n",
    "    i = 0\n",
    "    for row in hdul[1].data:\n",
    "        j = 0\n",
    "        for val in row:\n",
    "            if not hdul[3].data[i][j] and val==-999:#(val<7 or val>10):\n",
    "                print(val)\n",
    "            j += 1\n",
    "        i += 1\n",
    "    print('Done!')\n",
    "    \n",
    "    # Create masked array\n",
    "    R_metall_m = ma.array(hdul[1].data,mask=hdul[3].data)\n",
    "#     plt.imshow(R_metall_m,origin='lower',vmin=80,vmax=90)\n",
    "#     plt.locator_params(axis='y', nbins=5)\n",
    "#     plt.title('3D Metallicity ('+testplateifu+') in DR17')\n",
    "#     plt.xlabel('x-Distance (spaxels)')\n",
    "#     plt.ylabel('y-Distance (spaxels)')\n",
    "#     plt.colorbar(label='12+log(O/H)')\n",
    "#     plt.tight_layout()"
   ]
  },
  {
   "cell_type": "code",
   "execution_count": null,
   "metadata": {},
   "outputs": [],
   "source": []
  }
 ],
 "metadata": {
  "kernelspec": {
   "display_name": "Python 3 (anaconda3 2020.11)",
   "language": "python",
   "name": "anaconda3-2020.11"
  },
  "language_info": {
   "codemirror_mode": {
    "name": "ipython",
    "version": 3
   },
   "file_extension": ".py",
   "mimetype": "text/x-python",
   "name": "python",
   "nbconvert_exporter": "python",
   "pygments_lexer": "ipython3",
   "version": "3.8.5"
  }
 },
 "nbformat": 4,
 "nbformat_minor": 2
}
