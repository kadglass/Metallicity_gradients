{
 "cells": [
  {
   "cell_type": "code",
   "execution_count": null,
   "metadata": {},
   "outputs": [],
   "source": [
    "# Nate Brunacini, nbrunaci@u.rochester.edu\n",
    "# Supervisor: Kelly A. Douglass\n",
    "# This file includes methods to find the gradient (slope of the trend line) of the 3D (or \"R\") metallicities of \n",
    "# each spaxel in a MaNGA galaxy and to create a scatter plot of those gradient values."
   ]
  },
  {
   "cell_type": "code",
   "execution_count": 13,
   "metadata": {},
   "outputs": [],
   "source": [
    "# Import packages\n",
    "from astropy.io import fits\n",
    "import deproject_spaxel as dps\n",
    "import numpy as np\n",
    "import numpy.ma as ma\n",
    "import math\n",
    "import matplotlib.pyplot as plt\n",
    "%matplotlib inline\n",
    "from astropy.table import Table\n",
    "from scipy.stats import linregress\n",
    "from scipy.optimize import curve_fit\n",
    "\n",
    "import marvin\n",
    "from marvin.tools.maps import Maps"
   ]
  },
  {
   "cell_type": "code",
   "execution_count": 14,
   "metadata": {},
   "outputs": [],
   "source": [
    "# Takes in plateifu and table of kinematic center data, returns coordinates of kinematic center of galaxy\n",
    "def getKinematicCenter(plateifu,c_table):\n",
    "    plate, ifu = plateifu.split('-')\n",
    "    bool_index = np.logical_and(c_table['MaNGA_plate'] == int(plate), c_table['MaNGA_IFU'] == int(ifu))\n",
    "    x_coord = c_table['x0_map'][bool_index].data[0]\n",
    "    y_coord = c_table['y0_map'][bool_index].data[0]\n",
    "    return (y_coord,x_coord)\n",
    "    \n",
    "# x0_map,y0_map: pass in as (y,x); same as (row,column)\n",
    "\n",
    "# Returns coordinates of photometric center of the galaxy with the given plateifu\n",
    "def getPhotometricCenter(plateifu):\n",
    "    maps = Maps(plateifu)\n",
    "#     print(maps.datamodel)\n",
    "    gfluxmap = maps['spx_mflux']\n",
    "    center = np.unravel_index(np.argmax(gfluxmap.data),gfluxmap.shape)\n",
    "    return center"
   ]
  },
  {
   "cell_type": "code",
   "execution_count": 15,
   "metadata": {},
   "outputs": [],
   "source": [
    "# Takes in plateifu, data from drpall file, and table of kinematic centers, generates lists of normalized radius from galactic center and metallicity values, and outputs them in a dictionary\n",
    "def radius_lists(plateifu,drp,c_table):\n",
    "    q0 = 0.2\n",
    "    with fits.open('Pilyugin_'+plateifu+'_DR17_v1.fits', mode='update') as hdul:\n",
    "        index = np.where(drp['PLATEIFU'] == plateifu)[0][0]# Index of galaxy with the given plateifu; there is only one value but it is nested, hence the [0][0]\n",
    "        rot_angle = drp['NSA_ELPETRO_PHI'][index] * math.pi/180# Rotation angle; converted from degrees to radians\n",
    "        #inc_angle = np.arccos(drp['NSA_ELPETRO_BA'][index])#math.pi/2.0 - math.asin(drp['NSA_ELPETRO_BA'][index])# Inclination angle; converted from axis ratio to angle in radians\n",
    "        \n",
    "        cosi2 = (drp['NSA_ELPETRO_BA'][index]**2 - q0**2)/(1 - q0**2)\n",
    "        if cosi2 < 0:\n",
    "            cosi2 = 0\n",
    "        inc_angle = np.arccos(np.sqrt(cosi2))\n",
    "        \n",
    "        re = drp['NSA_ELPETRO_TH50_R'][index]# 50% light radius in SDSS r-band (in arcsec)\n",
    "        \n",
    "        # Get the kinematic center of the galaxy; if there is none in the data file, use photometric center\n",
    "        center = getKinematicCenter(plateifu,c_table)\n",
    "        if center == -99.0:# No kinematic center if value is -99\n",
    "            center = getPhotometricCenter(plateifu)\n",
    "        \n",
    "        #Arrays of values to be plotted\n",
    "        radii_R = ma.array(np.zeros(hdul[1].shape),mask=hdul[3].data)# List of normalized radii between each spaxel and the galactic center for spaxels with R metallicity values\n",
    "        R = ma.array(hdul[1].data,mask=hdul[3].data)# List of R metallicity values excluding those at masked spaxels\n",
    "        # Add points to lists\n",
    "        for row in range(hdul[1].shape[1]):\n",
    "            for col in range(hdul[1].shape[0]):\n",
    "                # Calcuate deprojected radius for the spaxel\n",
    "                coords = (row,col)\n",
    "                rad_spax,_ = dps.deproject_spaxel(coords,center,rot_angle,inc_angle)#Radius in units of spaxels\n",
    "                rad_arcsec = rad_spax * 0.5# Radius in arcseconds\n",
    "#                 rad_normalized = rad_arcsec/re\n",
    "                radii_R.data[row,col] = rad_arcsec/re\n",
    "#                 if R.data[row,col] < 8.20 and radii_R[row,col] < 3.0 and radii_R[row,col] > 2.5:#For testing only\n",
    "#                     print(row,col,radii_R[row,col],R.data[row,col],R.mask[row,col])#For testing only\n",
    "#     # Add normalized radius and metallicity values to lists if not masked at that spaxel\n",
    "#                 if not hdul[3].data[row][col]:# Removes masked values\n",
    "#                     radii_R.append(rad_normalized)\n",
    "#                     R.append(hdul[1].data[row][col])\n",
    "    #print(len(radii_R.compressed()))\n",
    "    return {\n",
    "            'radii_R': radii_R.compressed(),\n",
    "            'R': R.compressed(),\n",
    "            'r50':re\n",
    "        }"
   ]
  },
  {
   "cell_type": "code",
   "execution_count": 41,
   "metadata": {},
   "outputs": [],
   "source": [
    "# Linear Model Function. For use by curve_fit in the calculate_fits function\n",
    "def lmf(x,m,b):\n",
    "    return m*x+b"
   ]
  },
  {
   "cell_type": "code",
   "execution_count": 42,
   "metadata": {},
   "outputs": [],
   "source": [
    "# Takes in dictionary of radius and metallicity lists such as that output by the radius_lists function and outputs the parameters of the line of best fit\n",
    "def calculate_fits(r_lists):\n",
    "    # Not sure whether the r, p, and se values are needed. There is also an intercept_stderr value but that must be \n",
    "    # accessed as an attribute of the returned objected (as in results = linregress(x,y) then results.intercept_stderr)\n",
    "    #R_params = linregress(r_lists['radii_R'], r_lists['R'])\n",
    "    R_params = curve_fit(lmf,r_lists['radii_R'], r_lists['R'])[0]\n",
    "    print(R_params)# For testing\n",
    "    return {\n",
    "        # To access individual paramters, use (for example) N2_params.slope, .intercept, .rvalue, .pvalue, .stderr,\n",
    "        # .intercept_stderr\n",
    "#         'R_params': R_params,\n",
    "        'R_params': {'slope': R_params[0], 'intercept':R_params[1]},\n",
    "        'r50':r_lists['r50']\n",
    "    }"
   ]
  },
  {
   "cell_type": "code",
   "execution_count": 43,
   "metadata": {},
   "outputs": [],
   "source": [
    "# Takes in output from radius_lists and calculate_fits functions as well as plateifu and plots scatter plots (metallicity \n",
    "# versus normalized radius) with lines of best fit\n",
    "def scatterplots(r_lists,fit_params,plateifu):\n",
    "    fig, plots = plt.subplots(1)\n",
    "    fig.set_figheight(2.5)\n",
    "    fig.set_figwidth(5)\n",
    "    plots.plot(r_lists['radii_R'],r_lists['R'],'.')\n",
    "    plots.set_title('3D Metallicity vs. Normalized Radius')\n",
    "    plots.set_ylabel('Metallicity')\n",
    "    plots.set_xlabel('$r / r_e$')\n",
    "    x_R = np.linspace(min(r_lists['radii_R']),max(r_lists['radii_R']))#(0.0,1.6)\n",
    "    y_R = fit_params['R_params']['slope'] * x_R + fit_params['R_params']['intercept']\n",
    "    plots.plot(x_R,y_R,'-r')\n",
    "    plt.xlim([0,4])\n",
    "    plt.ylim([8,8.8])\n",
    "    plt.tight_layout()\n",
    "    plt.show()\n",
    "#     plt.savefig('Pilyugin_Galaxy_ScatterPlots/'+plateifu+'ScatterPlot_R')\n",
    "#     plt.close()"
   ]
  },
  {
   "cell_type": "code",
   "execution_count": 44,
   "metadata": {},
   "outputs": [],
   "source": [
    "# Wrapper function to call the above functions all at once. Takes in plateifu, data from drpall file, and table of kinematic \n",
    "# centers, calculates the parameters of the line of best fit of the normalized radius versus metallicity \n",
    "# data, and creates scatter plots\n",
    "def find_gradient(plateifu,drp,c_table):\n",
    "    r_lists = radius_lists(plateifu,drp,c_table)\n",
    "    trend = calculate_fits(r_lists)\n",
    "    scatterplots(r_lists,trend,plateifu)\n",
    "    return trend"
   ]
  },
  {
   "cell_type": "code",
   "execution_count": 45,
   "metadata": {
    "scrolled": false
   },
   "outputs": [
    {
     "name": "stdout",
     "output_type": "stream",
     "text": [
      "[-1.34782284e-05  8.43920308e+00]\n"
     ]
    },
    {
     "data": {
      "image/png": "[encoded data removed]",
      "text/plain": [
       "<Figure size 360x180 with 1 Axes>"
      ]
     },
     "metadata": {
      "needs_background": "light"
     },
     "output_type": "display_data"
    }
   ],
   "source": [
    "# Calling the functions\n",
    "with fits.open('drpall-v3_1_1.fits', memmap=True) as drpall:\n",
    "    c_table = Table.read('DRP-master_file_vflag_BB_smooth1p85_mapFit_N2O2_HIdr2_morph_noWords_v6.txt',format='ascii.commented_header')\n",
    "    find_gradient('10001-12701',drpall[1].data,c_table)#('9487-12701',drpall[1].data,c_table)#('8335-12701')#('7443-12705')\n",
    "#     plt.savefig('PosterMaps/Scatter_8335-12701')\n",
    "# Test galaxy: 9487-12701"
   ]
  },
  {
   "cell_type": "code",
   "execution_count": 8,
   "metadata": {},
   "outputs": [
    {
     "name": "stdout",
     "output_type": "stream",
     "text": [
      "Filename: MetallicityFITS/Brown_7992-12705.fits\n",
      "No.    Name      Ver    Type      Cards   Dimensions   Format\n",
      "  0  PRIMARY       1 PrimaryHDU       5   (0,)      \n",
      "  1  N2_METALLICITY    1 ImageHDU         8   (74, 74)   float64   \n",
      "  2  O3N2_METALLICITY    1 ImageHDU         8   (74, 74)   float64   \n",
      "  3  N2O2_METALLICITY    1 ImageHDU         8   (74, 74)   float64   \n",
      "  4  N2_IVAR       1 ImageHDU         8   (74, 74)   float64   \n",
      "  5  O3N2_IVAR     1 ImageHDU         8   (74, 74)   float64   \n",
      "  6  N2O2_IVAR     1 ImageHDU         8   (74, 74)   float64   \n",
      "  7  N2_MASK       1 ImageHDU         8   (74, 74)   int32   \n",
      "  8  O3N2_MASK     1 ImageHDU         8   (74, 74)   int32   \n",
      "  9  N2O2_MASK     1 ImageHDU         8   (74, 74)   int32   \n",
      "None\n"
     ]
    }
   ],
   "source": [
    "# with fits.open('MetallicityFITS/Brown_7992-12705.fits', mode='update') as hdul:\n",
    "#     print(hdul.info())"
   ]
  },
  {
   "cell_type": "code",
   "execution_count": null,
   "metadata": {},
   "outputs": [],
   "source": []
  }
 ],
 "metadata": {
  "kernelspec": {
   "display_name": "Python 3 (anaconda3 2020.11)",
   "language": "python",
   "name": "anaconda3-2020.11"
  },
  "language_info": {
   "codemirror_mode": {
    "name": "ipython",
    "version": 3
   },
   "file_extension": ".py",
   "mimetype": "text/x-python",
   "name": "python",
   "nbconvert_exporter": "python",
   "pygments_lexer": "ipython3",
   "version": "3.8.5"
  }
 },
 "nbformat": 4,
 "nbformat_minor": 2
}
