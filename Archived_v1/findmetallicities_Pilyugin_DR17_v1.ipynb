{
 "cells": [
  {
   "cell_type": "code",
   "execution_count": 1,
   "metadata": {},
   "outputs": [],
   "source": [
    "# Nate Brunacini, nbrunaci@u.rochester.edu\n",
    "# Supervisor: Kelly A. Douglass\n",
    "# To switch between DR15 and DR17, change the config.setRelease line and any uses of drpall (v2_4_3 for DR15 and v3_1_1 for \n",
    "# DR17). The v2_4_3 file has \"-Copy1\" at the end of its name so it is not accidentally used by any other notebook. Also change \n",
    "# figure titles and file names in savefig lines (these can both be changed by the variable named \"version.\"\n",
    "\n",
    "# NOTE: IVAR FUNCTIONS ARE NOT UPDATED"
   ]
  },
  {
   "cell_type": "code",
   "execution_count": 1,
   "metadata": {},
   "outputs": [
    {
     "name": "stderr",
     "output_type": "stream",
     "text": [
      "/home/nbrunaci/.local/lib/python3.8/site-packages/marvin/core/exceptions.py:50: UserWarning: cannot initiate Sentry error reporting: [Errno 6] No such device or address.\n",
      "  warnings.warn('cannot initiate Sentry error reporting: {0}.'.format(str(ee)),\n",
      "\u001b[0;34m[INFO]: \u001b[0mNo release version set. Setting default to DR17\n",
      "\u001b[1;33m[WARNING]: \u001b[0m\u001b[0;39mpath /home/nbrunaci/sas/mangawork/manga/spectro/redux/v3_1_1/drpall-v3_1_1.fits cannot be found. Setting drpall to None.\u001b[0m \u001b[0;36m(MarvinUserWarning)\u001b[0m\n",
      "\u001b[1;33m[WARNING]: \u001b[0m\u001b[0;39mpath /home/nbrunaci/sas/mangawork/manga/spectro/analysis/v3_1_1/3.1.0/dapall-v3_1_1-3.1.0.fits cannot be found. Setting dapall to None.\u001b[0m \u001b[0;36m(MarvinUserWarning)\u001b[0m\n",
      "\u001b[1;33m[WARNING]: \u001b[0m\u001b[0;39mpath /home/nbrunaci/sas/mangawork/manga/spectro/redux/v3_1_1/drpall-v3_1_1.fits cannot be found. Setting drpall to None.\u001b[0m \u001b[0;36m(MarvinUserWarning)\u001b[0m\n",
      "\u001b[1;33m[WARNING]: \u001b[0m\u001b[0;39mpath /home/nbrunaci/sas/mangawork/manga/spectro/analysis/v3_1_1/3.1.0/dapall-v3_1_1-3.1.0.fits cannot be found. Setting dapall to None.\u001b[0m \u001b[0;36m(MarvinUserWarning)\u001b[0m\n"
     ]
    }
   ],
   "source": [
    "# Import packages\n",
    "\n",
    "import marvin\n",
    "from marvin.tools.maps import Maps\n",
    "from marvin.tools import Image\n",
    "from marvin import config\n",
    "config.setRelease('DR17')\n",
    "\n",
    "import numpy as np\n",
    "import numpy.ma as ma\n",
    "from numpy import log10, pi\n",
    "\n",
    "import matplotlib.pyplot as plt\n",
    "\n",
    "from astropy.io import fits\n",
    "import astropy.constants as const\n",
    "\n",
    "import math\n",
    "\n",
    "import pyneb as pn"
   ]
  },
  {
   "cell_type": "code",
   "execution_count": 2,
   "metadata": {},
   "outputs": [],
   "source": [
    "# Takes in plate and IFU numbers of a galaxy, returns nested dictionary of each relevent emission line's flux and inverse variance in masked arrays\n",
    "# Called by addDiagnostics_Pilyugin function\n",
    "# Could probably by merged with the addDiagnostics function\n",
    "def getDataMaps_Pilyugin(plateifu):\n",
    "    maps = Maps(plateifu)\n",
    "    \n",
    "    # Obtaining redshift data from drpall fits file\n",
    "    with fits.open('drpall-v3_1_1.fits', memmap=True) as drpall:\n",
    "        tbdata = drpall[1].data\n",
    "        ind = np.where(tbdata['plateifu'] == plateifu)\n",
    "        redshift = tbdata['nsa_z'][ind][0]# This [0] is here because each z value seems to be in its own array for some reason\n",
    "    \n",
    "    # Observed emission lines\n",
    "    HbF_map = maps[\"emline_gflux_hb_4862\"]\n",
    "    OII_map = maps[\"emline_gflux_oii_3727\"]\n",
    "    OIII_map = maps[\"emline_gflux_oiii_5008\"]\n",
    "    OIII2_map = maps[\"emline_gflux_oiii_4960\"]\n",
    "    NII_map = maps[\"emline_gflux_nii_6585\"]\n",
    "    NII2_map = maps[\"emline_gflux_nii_6549\"]\n",
    "    HaF_map = maps[\"emline_gflux_ha_6564\"]\n",
    "    OII2_map = maps[\"emline_gflux_oii_3729\"]\n",
    "    observed = [HbF_map,OII_map,OII2_map,OIII_map,OIII2_map,NII_map,NII2_map,HaF_map,]# Array of observed emission lines\n",
    "    names = ['HbF','OII','OII2','OIII','OIII2','NII','NII2','HaF']# Array of names of observed emission lines\n",
    "    \n",
    "#     print('HbF:',HbF_map.data[52,29])\n",
    "#     print('OII:',OII_map.data[52,29])\n",
    "#     print('OIII:',OIII_map.data[52,29])\n",
    "#     print('OIII2:',OIII2_map.data[52,29])\n",
    "#     print('NII:',NII_map.data[52,29])\n",
    "#     print('NII2:',NII2_map.data[52,29])\n",
    "#     print('Test OII2:',OII2_map.data[52,29])\n",
    "    \n",
    "    # Array of masked flux arrays for observed emission lines\n",
    "    observed_m = []\n",
    "    for line in observed:\n",
    "        observed_m.append(line.masked)\n",
    "    \n",
    "    # Array of masked inverse variance arrays for observed emission lines\n",
    "    observed_ivar_m = []\n",
    "    for line in observed:\n",
    "        observed_ivar_m.append(ma.array(line.ivar,mask=line.mask))\n",
    "    \n",
    "    return{\n",
    "        names[0]: {'flux': observed_m[0], 'ivar': observed_ivar_m[0]},\n",
    "        names[1]: {'flux': observed_m[1], 'ivar': observed_ivar_m[1]},\n",
    "        names[2]: {'flux': observed_m[2], 'ivar': observed_ivar_m[2]},\n",
    "        names[3]: {'flux': observed_m[3], 'ivar': observed_ivar_m[3]},\n",
    "        names[4]: {'flux': observed_m[4], 'ivar': observed_ivar_m[4]},\n",
    "        names[5]: {'flux': observed_m[5], 'ivar': observed_ivar_m[5]},\n",
    "        names[6]: {'flux': observed_m[6], 'ivar': observed_ivar_m[6]},\n",
    "        names[7]: {'flux': observed_m[7], 'ivar': observed_ivar_m[7]},\n",
    "        'z': redshift,# This did not end up being used\n",
    "        'wavelength': [4862,3727,5008,4960,6585,6549,6564,3729]# Wavelength of each line\n",
    "    }"
   ]
  },
  {
   "cell_type": "code",
   "execution_count": 3,
   "metadata": {},
   "outputs": [],
   "source": [
    "# TODO: IMPLEMENT THIS FUNCTION\n",
    "def getDustCorrectedIvars(observed):\n",
    "    return  {\n",
    "        'HbF':0,# THESE ZEROS ARE PLACEHOLDERS\n",
    "        'OII':0,\n",
    "        'OII2':0,\n",
    "        'OIII':0,\n",
    "        'OIII2':0,\n",
    "        'NII':0,\n",
    "        'NII2':0,\n",
    "        'HaF':0\n",
    "    }"
   ]
  },
  {
   "cell_type": "code",
   "execution_count": 4,
   "metadata": {},
   "outputs": [],
   "source": [
    "# Takes in output from getDataMaps_Pilyugin, returns those maps corrected for dust extinction\n",
    "def dustCorrect(datamaps):\n",
    "    RC = pn.RedCorr(law='CCM89')\n",
    "    \n",
    "    # Calculate the observed Ha/Hb flux ratio\n",
    "    HaHb_obs = datamaps['HaF']['flux'] / datamaps['HbF']['flux']\n",
    "    \n",
    "    # Calculate correction coefficient based on theoretical Ha/Hb ratio\n",
    "    RC.setCorr(HaHb_obs/2.86, 6563., 4861.)\n",
    "    \n",
    "    # Error propagation\n",
    "    dcIvars = getDustCorrectedIvars(datamaps)\n",
    "    \n",
    "    # De-redden emission line\n",
    "    for index,line in enumerate(datamaps):\n",
    "        if index<len(datamaps)-2:# To exclude the z and wavelength values\n",
    "            datamaps[line]['flux'] = datamaps[line]['flux'] * RC.getCorrHb(datamaps['wavelength'][index])\n",
    "            # Updating error values\n",
    "            datamaps[line]['ivar'] = dcIvars[line]\n",
    "    \n",
    "    return datamaps"
   ]
  },
  {
   "cell_type": "code",
   "execution_count": 5,
   "metadata": {},
   "outputs": [],
   "source": [
    "# Takes in output from getDataMaps_Pilyugin function, returns dictionary of inverse variance arrays for calculated abundance diagnostics\n",
    "# Called by addDiagnostics_Pilyugin function\n",
    "def getDiagnosticIvars_Pilyugin(observed):\n",
    "    \n",
    "    # Fluxes\n",
    "    b = observed['HbF']['flux']\n",
    "    oii = observed['OII']['flux']\n",
    "    oiii = observed['OIII']['flux']\n",
    "    oiii2 = observed['OIII2']['flux']\n",
    "    nii = observed['NII']['flux']\n",
    "    nii2 = observed['NII2']['flux']\n",
    "    \n",
    "    # Inverse variances\n",
    "    ib = observed['HbF']['ivar']\n",
    "    ioii = observed['OII']['ivar']\n",
    "    ioiii = observed['OIII']['ivar']\n",
    "    ioiii2 = observed['OIII2']['ivar']\n",
    "    inii = observed['NII']['ivar']\n",
    "    inii2 = observed['NII2']['ivar']\n",
    "    \n",
    "    # R2 ivar calculations:\n",
    "    # R2 = f(o,b) where o=OII, b=HbF\n",
    "    # f = o/b\n",
    "    # ivar_f = 1.0 / ( (df/do)**2/ivar_o + (df/db)**2/ivar_b ) where d means partial derivative\n",
    "    # Evaluated: ivar_f = 1.0 / ( 1.0/(b**2*ivar_o) + o**2/(b**4*ivar_b) )\n",
    "    R2_ivar_m = 1.0 / (1.0/(b**2*ioii) + oii**2/(b**4*ib))\n",
    "    \n",
    "    # N2 ivar calculations:\n",
    "    # N2 = f(n,n2,b) where n=NII, n2=NII2, b=HbF\n",
    "    # f = (n+n2)/b\n",
    "    # ivar_f = 1.0 / ( (df/dn)**2/ivar_n + (df/dn2)**2/ivar_n2 + (df/db)**2/ivar_b ) where d means partial derivative\n",
    "    # Evaluated: ivar_f = 1.0 / ( 1.0/(b**2*ivar_n) + 1.0/(b**2*ivar_n2) + (-(n+n2)/b**2)**2/ivar_b )\n",
    "    N2_ivar_m = 1.0 / (1.0/(b**2*inii) + 1.0/(b**2*inii2) + (-(nii+nii2)/b**2)**2/ib)\n",
    "    \n",
    "    # R3 ivar calculations:\n",
    "    # R3 = f(o,o2,b) where o=OIII, o2=OIII2, b=HbF\n",
    "    # f = (o+o2)/b\n",
    "    # ivar_f = 1.0 / ( (df/do)**2/ivar_o + (df/do2)**2/ivar_o2 + (df/db)**2/ivar_b ) where d means partial derivative\n",
    "    # Evaluated: ivar_f = 1.0 / ( 1.0/(b**2*ivar_o) + 1.0/(b**2*ivar_o2) + (-(o+o2)/b**2)**2/ivar_b )\n",
    "    R3_ivar_m = 1.0 / (1.0/(b**2*ioiii) + 1.0/(b**2*ioiii2) + (-(oiii+oiii2)/b**2)**2/ib)\n",
    "    \n",
    "    return {\n",
    "        'R2':R2_ivar_m,\n",
    "        'N2':N2_ivar_m,\n",
    "        'R3':R3_ivar_m\n",
    "    }"
   ]
  },
  {
   "cell_type": "code",
   "execution_count": 6,
   "metadata": {},
   "outputs": [],
   "source": [
    "# Takes in plate and IFU numbers of a galaxy, returns dictionary of observed lines from getDataMaps_Pilyugin function \n",
    "# (corrected for dust extinction) plus calculated abundance diagnostics\n",
    "def addDiagnostics_Pilyugin(plateifu):\n",
    "    observed = dustCorrect(getDataMaps_Pilyugin(plateifu))\n",
    "    \n",
    "#     fluxes = [flux for flux in observed.items()]# Creates array of the same maps as accessed below but lacks names\n",
    "    HbF_flux_m = observed['HbF']['flux']\n",
    "    OII_flux_m = observed['OII']['flux']\n",
    "    OII2_flux_m = observed['OII2']['flux']\n",
    "    OIII_flux_m = observed['OIII']['flux']\n",
    "    OIII2_flux_m = observed['OIII2']['flux']\n",
    "    NII_flux_m = observed['NII']['flux']\n",
    "    NII2_flux_m = observed['NII2']['flux']\n",
    "    HaF_flux_m = observed['HaF']['flux']\n",
    "    \n",
    "#     print(OII_flux_m[52,29])\n",
    "#     print(OII2_flux_m[52,29])\n",
    "    \n",
    "    # Flux for calculated abundance diagnostics (masked)\n",
    "    R2_flux_m = (OII_flux_m + OII2_flux_m) / HbF_flux_m\n",
    "#     print(R2_flux_m[52,29])\n",
    "    N2_flux_m = (NII_flux_m + NII2_flux_m) / HbF_flux_m\n",
    "    R3_flux_m = (OIII_flux_m + OIII2_flux_m) / HbF_flux_m\n",
    "    \n",
    "    # Inverse variance for calculated abuance diagnostics (masked)\n",
    "    dIvars = getDiagnosticIvars_Pilyugin(observed)\n",
    "    \n",
    "    diagnostics = {\n",
    "        'R2': {'flux': R2_flux_m, 'ivar': dIvars['R2']},\n",
    "        'N2': {'flux': N2_flux_m, 'ivar': dIvars['N2']},\n",
    "        'R3': {'flux': R3_flux_m, 'ivar': dIvars['R3']}\n",
    "    }\n",
    "#     return observed | diagnostics# This is not supported in Python 3 (anaconda3 2020.11)\n",
    "    return {**observed, **diagnostics}"
   ]
  },
  {
   "cell_type": "code",
   "execution_count": 7,
   "metadata": {},
   "outputs": [],
   "source": [
    "# Takes in output from addDiagnostics function, returns dictionary of inverse variance arrays for each metallicity method\n",
    "# Called by findMetallicities function\n",
    "def getMetallicityIvars_Pilyugin(eqtype,r3,r2,n2,ir3,ir2,in2):\n",
    "    \n",
    "    #NOTE: ma.log is natural log (ln)\n",
    "    \n",
    "    # Constants\n",
    "    if eqtype == 'lower':\n",
    "        A = 7.932\n",
    "        B = 0.944\n",
    "        C = 0.695\n",
    "        D = 0.970\n",
    "        E = -0.291\n",
    "        F = -0.019\n",
    "    else:\n",
    "        A = 8.589\n",
    "        B = 0.022\n",
    "        C = 0.399\n",
    "        D = -0.137\n",
    "        E = 0.164\n",
    "        F = 0.589\n",
    "    ln10 = ma.log(10)\n",
    "    \n",
    "    # R metallicity ivar calculations:\n",
    "    # R_metallicity = f(r3,r2,n2)\n",
    "    # f = A + B * ma.log10(r3/r2) + C * ma.log10(n2) + (D + E * ma.log10(r3/r2) + F * ma.log10(n2)) * ma.log10(r2)\n",
    "    dfdr3 = (E*ma.log(r2)+B*ln10)/(r3*ln10**2)\n",
    "    dfdr2 = -(E*ma.log(r2)-E*ma.log(r3/r2)-F*ma.log(n2)-D*ln10+B*ln10)/(r2*ln10**2)\n",
    "    dfdn2 = (F*ma.log(r2)+C*ln10)/(n2*ln10**2)\n",
    "    R_metallicity_ivar = 1.0 / ( (dfdr3)**2/ir3 + (dfdr2)**2/ir2 + (dfdn2)**2/in2 )\n",
    "    \n",
    "    return R_metallicity_ivar"
   ]
  },
  {
   "cell_type": "code",
   "execution_count": 8,
   "metadata": {},
   "outputs": [],
   "source": [
    "# Takes in output from addDiagnostics_Pilyugin function, calculates and returns metallicities calculated using equations from Pilyugin and Grebel 2016 and their inverse variances\n",
    "# dataMaps must be a dictionary of the masked flux and ivar of each emission line, as is output by addDiagnostics_Pilyugin\n",
    "def findMetallicities_Pilyugin(dataMaps):\n",
    "    \n",
    "    R3 = dataMaps['R3']['flux']\n",
    "    R2 = dataMaps['R2']['flux']\n",
    "    N2 = dataMaps['N2']['flux']\n",
    "    ratio = R3/R2\n",
    "    R3_ivar = dataMaps['R3']['ivar']\n",
    "    R2_ivar = dataMaps['R2']['ivar']\n",
    "    N2_ivar = dataMaps['N2']['ivar']\n",
    "    \n",
    "    R_metallicity = np.empty_like(N2)\n",
    "    R_ivar = np.empty_like(N2)\n",
    "    \n",
    "    # Generate masks\n",
    "    HbF_mask = (dataMaps['HbF']['flux']*np.sqrt(dataMaps['HbF']['ivar']) < 3) + dataMaps['HbF']['flux'].mask\n",
    "    OII_mask = (dataMaps['OII']['flux']*np.sqrt(dataMaps['OII']['ivar']) < 3) + dataMaps['OII']['flux'].mask\n",
    "    OII2_mask = (dataMaps['OII2']['flux']*np.sqrt(dataMaps['OII2']['ivar']) < 3) + dataMaps['OII2']['flux'].mask\n",
    "    OIII_mask = (dataMaps['OIII']['flux']*np.sqrt(dataMaps['OIII']['ivar']) < 3) + dataMaps['OIII']['flux'].mask\n",
    "    OIII2_mask = (dataMaps['OIII2']['flux']*np.sqrt(dataMaps['OIII2']['ivar']) < 3) + dataMaps['OIII2']['flux'].mask\n",
    "    NII_mask = (dataMaps['NII']['flux']*np.sqrt(dataMaps['NII']['ivar']) < 3) + dataMaps['NII']['flux'].mask\n",
    "    NII2_mask = (dataMaps['NII2']['flux']*np.sqrt(dataMaps['NII2']['ivar']) < 3) + dataMaps['NII2']['flux'].mask\n",
    "    HaF_mask = (dataMaps['HaF']['flux']*np.sqrt(dataMaps['HaF']['ivar']) < 5) + dataMaps['HaF']['flux'].mask\n",
    "    \n",
    "    R_metallicity.mask = HbF_mask + OII_mask + OIII_mask + OIII2_mask + NII_mask + NII2_mask + OII2_mask\n",
    "    R_ivar.mask = R_metallicity.mask\n",
    "    \n",
    "    for i in range(0,len(R_metallicity)):\n",
    "        for j in range(0,len(R_metallicity[i])):\n",
    "            \n",
    "            R3val = R3[i][j]\n",
    "            R2val = R2[i][j]\n",
    "            N2val = N2[i][j]\n",
    "            logratio = ma.log10(ratio[i][j])\n",
    "            \n",
    "            if ma.log10(N2[i][j]) < -0.6:\n",
    "                # RL metallicity equation (Pilyugin et al. Eq. 5)\n",
    "                R_metallicity[i][j] = 7.932 + 0.944 * logratio + 0.695 * ma.log10(N2val) + (0.970 - 0.291 * logratio - 0.019 * ma.log10(N2val)) * ma.log10(R2val)\n",
    "                R_ivar[i][j] = getMetallicityIvars_Pilyugin('lower',R3val,R2val,N2val,R3_ivar[i][j],R2_ivar[i][j],N2_ivar[i][j])\n",
    "            else:\n",
    "                # RU metallicity equation (Pilyugin et al. Eq. 4)\n",
    "                R_metallicity[i][j] = 8.589 + 0.022 * logratio + 0.399 * ma.log10(N2val) + (-0.137 + 0.164 * logratio + 0.589 * ma.log10(N2val)) * ma.log10(R2val)\n",
    "                R_ivar[i][j] = getMetallicityIvars_Pilyugin('upper',R3val,R2val,N2val,R3_ivar[i][j],R2_ivar[i][j],N2_ivar[i][j])\n",
    "            \n",
    "#             # Mask any spaxels with a HaF signal-to-noise ratio of less than 5\n",
    "#             if dataMaps['HaF']['flux'][i][j] * math.sqrt(dataMaps['HaF']['ivar'][i][j]) < 5:\n",
    "#                 R_metallicity.mask[i][j] = True\n",
    "#                 R_ivar.mask[i][j] = True\n",
    "    \n",
    "    return{\n",
    "        'R':{'metallicity': R_metallicity, 'ivar': R_ivar}\n",
    "    }"
   ]
  },
  {
   "cell_type": "code",
   "execution_count": 9,
   "metadata": {},
   "outputs": [],
   "source": [
    "# Wrapper function for the above functions. Calculates the metallicity values of the spaxels in the galaxy with \n",
    "# the input plateifu using the Pilyugin method\n",
    "def calcMetallicities(plateifu):\n",
    "    objmaps_R = addDiagnostics_Pilyugin(plateifu)\n",
    "    results_R = findMetallicities_Pilyugin(objmaps_R)\n",
    "    return results_R"
   ]
  },
  {
   "cell_type": "code",
   "execution_count": 10,
   "metadata": {},
   "outputs": [
    {
     "name": "stderr",
     "output_type": "stream",
     "text": [
      "\u001b[1;33m[WARNING]: \u001b[0m\u001b[0;39mdivide by zero encountered in log10\u001b[0m \u001b[0;36m(RuntimeWarning)\u001b[0m\n",
      "\u001b[1;33m[WARNING]: \u001b[0m\u001b[0;39mdivide by zero encountered in true_divide\u001b[0m \u001b[0;36m(RuntimeWarning)\u001b[0m\n",
      "\u001b[1;33m[WARNING]: \u001b[0m\u001b[0;39minvalid value encountered in true_divide\u001b[0m \u001b[0;36m(RuntimeWarning)\u001b[0m\n",
      "\u001b[1;33m[WARNING]: \u001b[0m\u001b[0;39mdivide by zero encountered in double_scalars\u001b[0m \u001b[0;36m(RuntimeWarning)\u001b[0m\n",
      "\u001b[1;33m[WARNING]: \u001b[0m\u001b[0;39minvalid value encountered in double_scalars\u001b[0m \u001b[0;36m(RuntimeWarning)\u001b[0m\n"
     ]
    }
   ],
   "source": [
    "results_R = calcMetallicities('10001-12701')#'9871-12702'\n",
    "\n",
    "version = 'DR17'"
   ]
  },
  {
   "cell_type": "code",
   "execution_count": 89,
   "metadata": {},
   "outputs": [
    {
     "name": "stdout",
     "output_type": "stream",
     "text": [
      "7.316141446159772\n"
     ]
    }
   ],
   "source": [
    "print(results_R['R']['metallicity'][52,29])"
   ]
  },
  {
   "cell_type": "code",
   "execution_count": 13,
   "metadata": {},
   "outputs": [
    {
     "data": {
      "text/plain": [
       "<matplotlib.colorbar.Colorbar at 0x2b35ef5152b0>"
      ]
     },
     "execution_count": 13,
     "metadata": {},
     "output_type": "execute_result"
    },
    {
     "data": {
      "image/png": "[encoded data removed]",
      "text/plain": [
       "<Figure size 432x288 with 2 Axes>"
      ]
     },
     "metadata": {
      "needs_background": "light"
     },
     "output_type": "display_data"
    }
   ],
   "source": [
    "plt.imshow(results_R['R']['metallicity'],origin='lower',vmin=8,vmax=9)\n",
    "plt.locator_params(axis='y', nbins=5)\n",
    "plt.title('3D Metallicity ('+'10001-12701'+') in '+version)\n",
    "plt.xlabel('x-Distance (spaxels)')\n",
    "plt.ylabel('y-Distance (spaxels)')\n",
    "plt.colorbar(label='12+log(O/H)')\n",
    "# plt.savefig('3Dmetallicity_'+plateifu_R+'_'+version)"
   ]
  },
  {
   "cell_type": "code",
   "execution_count": 10,
   "metadata": {},
   "outputs": [
    {
     "data": {
      "text/plain": [
       "<matplotlib.colorbar.Colorbar at 0x2b02b5d94730>"
      ]
     },
     "execution_count": 10,
     "metadata": {},
     "output_type": "execute_result"
    },
    {
     "data": {
      "image/png": "[encoded data removed]",
      "text/plain": [
       "<Figure size 432x288 with 2 Axes>"
      ]
     },
     "metadata": {
      "needs_background": "light"
     },
     "output_type": "display_data"
    }
   ],
   "source": [
    "plt.imshow(objmaps_R['OII']['flux'],origin='lower')#,vmin=8.3,vmax=10)\n",
    "plt.locator_params(axis='y', nbins=5)\n",
    "plt.title('[OII] 3727 Flux ('+plateifu_R+') in '+version)\n",
    "plt.xlabel('x-Distance (spaxels)')\n",
    "plt.ylabel('y-Distance (spaxels)')\n",
    "plt.colorbar(label='Flux')"
   ]
  },
  {
   "cell_type": "code",
   "execution_count": 11,
   "metadata": {},
   "outputs": [
    {
     "data": {
      "text/plain": [
       "<matplotlib.colorbar.Colorbar at 0x2b02b4f69f70>"
      ]
     },
     "execution_count": 11,
     "metadata": {},
     "output_type": "execute_result"
    },
    {
     "data": {
      "image/png": "[encoded data removed]",
      "text/plain": [
       "<Figure size 432x288 with 2 Axes>"
      ]
     },
     "metadata": {
      "needs_background": "light"
     },
     "output_type": "display_data"
    }
   ],
   "source": [
    "plt.imshow(objmaps_R['OII2']['flux'],origin='lower')#,vmin=8.3,vmax=10)\n",
    "plt.locator_params(axis='y', nbins=5)\n",
    "plt.title('[OII] 3729 Flux ('+plateifu_R+') in '+version)\n",
    "plt.xlabel('x-Distance (spaxels)')\n",
    "plt.ylabel('y-Distance (spaxels)')\n",
    "plt.colorbar(label='Flux')"
   ]
  },
  {
   "cell_type": "code",
   "execution_count": null,
   "metadata": {},
   "outputs": [],
   "source": []
  }
 ],
 "metadata": {
  "kernelspec": {
   "display_name": "Python 3 (anaconda3 2020.11)",
   "language": "python",
   "name": "anaconda3-2020.11"
  },
  "language_info": {
   "codemirror_mode": {
    "name": "ipython",
    "version": 3
   },
   "file_extension": ".py",
   "mimetype": "text/x-python",
   "name": "python",
   "nbconvert_exporter": "python",
   "pygments_lexer": "ipython3",
   "version": "3.8.5"
  }
 },
 "nbformat": 4,
 "nbformat_minor": 2
}
