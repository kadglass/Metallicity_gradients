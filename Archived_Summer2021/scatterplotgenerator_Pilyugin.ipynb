{
 "cells": [
  {
   "cell_type": "code",
   "execution_count": null,
   "metadata": {},
   "outputs": [],
   "source": [
    "# Nate Brunacini, nbrunaci@u.rochester.edu\n",
    "# Supervisor: Kelly A. Douglass\n",
    "# This file includes methods to find the gradient (slope of the trend line) of the 3D (or \"R\") metallicities of \n",
    "# each spaxel in a MaNGA galaxy and to create a scatter plot of those gradient values."
   ]
  },
  {
   "cell_type": "code",
   "execution_count": 1,
   "metadata": {},
   "outputs": [
    {
     "name": "stderr",
     "output_type": "stream",
     "text": [
      "/home/nbrunaci/.local/lib/python3.9/site-packages/marvin/core/exceptions.py:50: UserWarning: cannot initiate Sentry error reporting: [Errno 6] No such device or address.\n",
      "  warnings.warn('cannot initiate Sentry error reporting: {0}.'.format(str(ee)),\n",
      "\u001b[0;34m[INFO]: \u001b[0mNo release version set. Setting default to DR15\n",
      "\u001b[1;33m[WARNING]: \u001b[0m\u001b[0;39mpath /home/nbrunaci/sas/mangawork/manga/spectro/redux/v2_4_3/drpall-v2_4_3.fits cannot be found. Setting drpall to None.\u001b[0m \u001b[0;36m(MarvinUserWarning)\u001b[0m\n",
      "\u001b[1;33m[WARNING]: \u001b[0m\u001b[0;39mpath /home/nbrunaci/sas/mangawork/manga/spectro/analysis/v2_4_3/2.2.1/dapall-v2_4_3-2.2.1.fits cannot be found. Setting dapall to None.\u001b[0m \u001b[0;36m(MarvinUserWarning)\u001b[0m\n"
     ]
    }
   ],
   "source": [
    "# Import packages\n",
    "from astropy.io import fits\n",
    "import deproject_spaxel as dps\n",
    "import numpy as np\n",
    "import math\n",
    "import matplotlib.pyplot as plt\n",
    "%matplotlib inline\n",
    "from astropy.table import Table\n",
    "from scipy.stats import linregress\n",
    "\n",
    "import marvin\n",
    "from marvin.tools.maps import Maps"
   ]
  },
  {
   "cell_type": "code",
   "execution_count": 2,
   "metadata": {},
   "outputs": [],
   "source": [
    "# Takes in plateifu and table of kinematic center data, returns coordinates of kinematic center of galaxy\n",
    "def getKinematicCenter(plateifu,c_table):\n",
    "    plate, ifu = plateifu.split('-')\n",
    "    bool_index = np.logical_and(c_table['MaNGA_plate'] == int(plate), c_table['MaNGA_IFU'] == int(ifu))\n",
    "    x_coord = c_table['x0_map'][bool_index].data[0]\n",
    "    y_coord = c_table['y0_map'][bool_index].data[0]\n",
    "    return (y_coord,x_coord)\n",
    "    \n",
    "# x0_map,y0_map: pass in as (y,x); same as (row,column)\n",
    "\n",
    "# Returns coordinates of photometric center of the galaxy with the given plateifu\n",
    "def getPhotometricCenter(plateifu):\n",
    "    maps = Maps(plateifu)\n",
    "#     print(maps.datamodel)\n",
    "    gfluxmap = maps['spx_mflux']\n",
    "    center = np.unravel_index(np.argmax(gfluxmap.data),gfluxmap.shape)\n",
    "    return center"
   ]
  },
  {
   "cell_type": "code",
   "execution_count": 3,
   "metadata": {},
   "outputs": [],
   "source": [
    "# Takes in plateifu, data from drpall file, and table of kinematic centers, generates lists of normalized radius from galactic center and metallicity values, and outputs them in a dictionary\n",
    "def radius_lists(plateifu,drp,c_table):\n",
    "    with fits.open('MetallicityFITS_Pilyugin/Pilyugin_'+plateifu+'.fits', mode='update') as hdul:\n",
    "        index = np.where(drp['PLATEIFU'] == plateifu)[0][0]# Index of galaxy with the given plateifu; there is only one value but it is nested, hence the [0][0]\n",
    "        rot_angle = drp['NSA_ELPETRO_PHI'][index] * math.pi/180# Rotation angle; converted from degrees to radians\n",
    "        inc_angle = np.arccos(drp['NSA_ELPETRO_BA'][index])#math.pi/2.0 - math.asin(drp['NSA_ELPETRO_BA'][index])# Inclination angle; converted from axis ratio to angle in radians\n",
    "        re = drp['NSA_ELPETRO_TH50_R'][index]# 50% light radius in SDSS r-band (in arcsec)\n",
    "        \n",
    "        # Get the kinematic center of the galaxy; if there is none in the data file, use photometric center\n",
    "        center = getKinematicCenter(plateifu,c_table)\n",
    "        if center == -99.0:# No kinematic center if value is -99\n",
    "            center = getPhotometricCenter(plateifu)\n",
    "        \n",
    "        #Arrays of values to be plotted\n",
    "        radii_R = []# List of normalized radii between each spaxel and the galactic center for spaxels with R metallicity values\n",
    "        R = []# List of R metallicity values excluding those at masked spaxels\n",
    "        # Add points to lists\n",
    "        for row in range(hdul[1].shape[1]):\n",
    "            for col in range(hdul[1].shape[0]):\n",
    "                # Calcuate deprojected radius for the spaxel\n",
    "                coords = (row,col)\n",
    "                rad_spax,_ = dps.deproject_spaxel(coords,center,rot_angle,inc_angle)#Radius in units of spaxels\n",
    "                rad_arcsec = rad_spax * 0.5# Radius in arcseconds\n",
    "                rad_normalized = rad_arcsec/re\n",
    "                # Add normalized radius and metallicity values to lists if not masked at that spaxel\n",
    "                if not hdul[3].data[row][col]:# Removes masked values\n",
    "                    radii_R.append(rad_normalized)\n",
    "                    R.append(hdul[1].data[row][col])\n",
    "        return {\n",
    "            'radii_R': radii_R,\n",
    "            'R': R,\n",
    "            'r50':re\n",
    "        }"
   ]
  },
  {
   "cell_type": "code",
   "execution_count": 4,
   "metadata": {},
   "outputs": [],
   "source": [
    "# Takes in dictionary of radius and metallicity lists such as that output by the radius_lists function and outputs the parameters of the line of best fit\n",
    "def calculate_fits(r_lists):\n",
    "    # Not sure whether the r, p, and se values are needed. There is also an intercept_stderr value but that must be \n",
    "    # accessed as an attribute of the returned objected (as in results = linregress(x,y) then results.intercept_stderr)\n",
    "#     slope_N2, intercept_N2, r_N2, p_N2, se_N2 = linregress(r_lists['radii_N2'], r_lists['N2'])\n",
    "#     slope_O3N2, intercept_O3N2, r_N2, p_N2, se_N2 = linregress(r_lists['radii_O3N2'], r_lists['O3N2'])\n",
    "#     slope_N2O2, intercept_N2O2, r_N2, p_N2, se_N2 = linregress(r_lists['radii_N2O2'], r_lists['N2O2'])\n",
    "    R_params = linregress(r_lists['radii_R'], r_lists['R'])\n",
    "    return {\n",
    "        # To access individual paramters, use (for example) N2_params.slope, .intercept, .rvalue, .pvalue, .stderr,\n",
    "        # .intercept_stderr\n",
    "        'R_params': R_params,\n",
    "        'r50':r_lists['r50']\n",
    "    }"
   ]
  },
  {
   "cell_type": "code",
   "execution_count": 5,
   "metadata": {},
   "outputs": [],
   "source": [
    "# Takes in output from radius_lists and calculate_fits functions as well as plateifu and plots scatter plots (metallicity \n",
    "# versus normalized radius) with lines of best fit\n",
    "def scatterplots(r_lists,fit_params,plateifu):\n",
    "    fig, plots = plt.subplots(1)\n",
    "    fig.set_figheight(5)\n",
    "    fig.set_figwidth(5)\n",
    "    plots.plot(r_lists['radii_R'],r_lists['R'],'.')\n",
    "    plots.set_title('3D Metallicity vs. Normalized Radius')\n",
    "    plots.set_ylabel('Metallicity')\n",
    "    plots.set_xlabel('r / r_e')\n",
    "    x_R = np.linspace(min(r_lists['radii_R']),max(r_lists['radii_R']))#(0.0,1.6)\n",
    "    y_R = fit_params['R_params'].slope * x_R + fit_params['R_params'].intercept\n",
    "    plots.plot(x_R,y_R,'-r')\n",
    "    plt.savefig('Pilyugin_Galaxy_ScatterPlots/'+plateifu+'ScatterPlot_R')\n",
    "    plt.close()"
   ]
  },
  {
   "cell_type": "code",
   "execution_count": 6,
   "metadata": {},
   "outputs": [],
   "source": [
    "# Wrapper function to call the above functions all at once. Takes in plateifu, data from drpall file, and table of kinematic \n",
    "# centers, calculates the parameters of the line of best fit of the normalized radius versus metallicity \n",
    "# data, and creates scatter plots\n",
    "def find_gradient(plateifu,drp,c_table):\n",
    "    r_lists = radius_lists(plateifu,drp,c_table)\n",
    "    trend = calculate_fits(r_lists)\n",
    "    scatterplots(r_lists,trend,plateifu)\n",
    "    return trend"
   ]
  },
  {
   "cell_type": "code",
   "execution_count": 7,
   "metadata": {
    "scrolled": false
   },
   "outputs": [
    {
     "name": "stderr",
     "output_type": "stream",
     "text": [
      "\u001b[1;33m[WARNING]: \u001b[0m\u001b[0;39mOverflowError converting to FloatType in column avg_alpha, possibly resulting in degraded precision.\u001b[0m \u001b[0;36m(AstropyWarning)\u001b[0m\n",
      "\u001b[1;33m[WARNING]: \u001b[0m\u001b[0;39mOverflowError converting to FloatType in column pos_alpha, possibly resulting in degraded precision.\u001b[0m \u001b[0;36m(AstropyWarning)\u001b[0m\n",
      "\u001b[1;33m[WARNING]: \u001b[0m\u001b[0;39mOverflowError converting to FloatType in column neg_alpha, possibly resulting in degraded precision.\u001b[0m \u001b[0;36m(AstropyWarning)\u001b[0m\n"
     ]
    }
   ],
   "source": [
    "# # Calling the functions\n",
    "# with fits.open('drpall-v2_4_3.fits', memmap=True) as drpall:\n",
    "#     c_table = Table.read('DRP-master_file_vflag_BB_smooth1p85_mapFit_N2O2_HIdr2_noWords_v5.txt',format='ascii.commented_header')\n",
    "#     find_gradient('9487-12701',drpall[1].data,c_table)#('9487-12701',drpall[1].data,c_table)#('8335-12701')#('7443-12705')\n",
    "# #     plt.savefig('PosterMaps/Scatter_8335-12701')"
   ]
  },
  {
   "cell_type": "code",
   "execution_count": 8,
   "metadata": {},
   "outputs": [
    {
     "name": "stdout",
     "output_type": "stream",
     "text": [
      "Filename: MetallicityFITS/Brown_7992-12705.fits\n",
      "No.    Name      Ver    Type      Cards   Dimensions   Format\n",
      "  0  PRIMARY       1 PrimaryHDU       5   (0,)      \n",
      "  1  N2_METALLICITY    1 ImageHDU         8   (74, 74)   float64   \n",
      "  2  O3N2_METALLICITY    1 ImageHDU         8   (74, 74)   float64   \n",
      "  3  N2O2_METALLICITY    1 ImageHDU         8   (74, 74)   float64   \n",
      "  4  N2_IVAR       1 ImageHDU         8   (74, 74)   float64   \n",
      "  5  O3N2_IVAR     1 ImageHDU         8   (74, 74)   float64   \n",
      "  6  N2O2_IVAR     1 ImageHDU         8   (74, 74)   float64   \n",
      "  7  N2_MASK       1 ImageHDU         8   (74, 74)   int32   \n",
      "  8  O3N2_MASK     1 ImageHDU         8   (74, 74)   int32   \n",
      "  9  N2O2_MASK     1 ImageHDU         8   (74, 74)   int32   \n",
      "None\n"
     ]
    }
   ],
   "source": [
    "# with fits.open('MetallicityFITS/Brown_7992-12705.fits', mode='update') as hdul:\n",
    "#     print(hdul.info())"
   ]
  },
  {
   "cell_type": "code",
   "execution_count": null,
   "metadata": {},
   "outputs": [],
   "source": []
  }
 ],
 "metadata": {
  "kernelspec": {
   "display_name": "Python 3 (3.9.5)",
   "language": "python",
   "name": "python3-3.9.5"
  },
  "language_info": {
   "codemirror_mode": {
    "name": "ipython",
    "version": 3
   },
   "file_extension": ".py",
   "mimetype": "text/x-python",
   "name": "python",
   "nbconvert_exporter": "python",
   "pygments_lexer": "ipython3",
   "version": "3.9.5"
  }
 },
 "nbformat": 4,
 "nbformat_minor": 2
}
