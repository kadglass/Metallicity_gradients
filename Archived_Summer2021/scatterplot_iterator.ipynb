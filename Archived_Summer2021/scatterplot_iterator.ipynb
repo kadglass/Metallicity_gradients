{
 "cells": [
  {
   "cell_type": "code",
   "execution_count": null,
   "metadata": {},
   "outputs": [],
   "source": [
    "# Nate Brunacini, nbrunaci@u.rochester.edu\n",
    "# Supervisor: Kelly A. Douglass\n",
    "# This file runs scatterplotgenerator over all galaxies in the MaNGA dataset and writes the resulting gradient, \n",
    "# y-intercept, and other values to a text file. It also creates a histogram of slopes for each metallicity method \n",
    "# from Brown et al. 2016 (N2, O3N2, and N2O2)."
   ]
  },
  {
   "cell_type": "code",
   "execution_count": 1,
   "metadata": {},
   "outputs": [
    {
     "name": "stderr",
     "output_type": "stream",
     "text": [
      "/home/nbrunaci/.local/lib/python3.9/site-packages/marvin/core/exceptions.py:50: UserWarning: cannot initiate Sentry error reporting: [Errno 6] No such device or address.\n",
      "  warnings.warn('cannot initiate Sentry error reporting: {0}.'.format(str(ee)),\n",
      "\u001b[0;34m[INFO]: \u001b[0mNo release version set. Setting default to DR15\n",
      "\u001b[1;33m[WARNING]: \u001b[0m\u001b[0;39mpath /home/nbrunaci/sas/mangawork/manga/spectro/redux/v2_4_3/drpall-v2_4_3.fits cannot be found. Setting drpall to None.\u001b[0m \u001b[0;36m(MarvinUserWarning)\u001b[0m\n",
      "\u001b[1;33m[WARNING]: \u001b[0m\u001b[0;39mpath /home/nbrunaci/sas/mangawork/manga/spectro/analysis/v2_4_3/2.2.1/dapall-v2_4_3-2.2.1.fits cannot be found. Setting dapall to None.\u001b[0m \u001b[0;36m(MarvinUserWarning)\u001b[0m\n"
     ]
    }
   ],
   "source": [
    "# Import packages\n",
    "from scatterplotgenerator import *\n",
    "import time\n",
    "from astropy.io import ascii"
   ]
  },
  {
   "cell_type": "code",
   "execution_count": 2,
   "metadata": {},
   "outputs": [
    {
     "name": "stderr",
     "output_type": "stream",
     "text": [
      "\u001b[1;33m[WARNING]: \u001b[0m\u001b[0;39mOverflowError converting to FloatType in column avg_alpha, possibly resulting in degraded precision.\u001b[0m \u001b[0;36m(AstropyWarning)\u001b[0m\n",
      "\u001b[1;33m[WARNING]: \u001b[0m\u001b[0;39mOverflowError converting to FloatType in column pos_alpha, possibly resulting in degraded precision.\u001b[0m \u001b[0;36m(AstropyWarning)\u001b[0m\n",
      "\u001b[1;33m[WARNING]: \u001b[0m\u001b[0;39mOverflowError converting to FloatType in column neg_alpha, possibly resulting in degraded precision.\u001b[0m \u001b[0;36m(AstropyWarning)\u001b[0m\n",
      "\u001b[1;33m[WARNING]: \u001b[0m\u001b[0;39minvalid value encountered in arccos\u001b[0m \u001b[0;36m(RuntimeWarning)\u001b[0m\n",
      "\u001b[1;33m[WARNING]: \u001b[0m\u001b[0;39minvalid value encountered in arccos\u001b[0m \u001b[0;36m(RuntimeWarning)\u001b[0m\n",
      "\u001b[1;33m[WARNING]: \u001b[0m\u001b[0;39minvalid value encountered in arccos\u001b[0m \u001b[0;36m(RuntimeWarning)\u001b[0m\n",
      "\u001b[1;33m[WARNING]: \u001b[0m\u001b[0;39minvalid value encountered in arccos\u001b[0m \u001b[0;36m(RuntimeWarning)\u001b[0m\n",
      "\u001b[1;33m[WARNING]: \u001b[0m\u001b[0;39minvalid value encountered in arccos\u001b[0m \u001b[0;36m(RuntimeWarning)\u001b[0m\n",
      "\u001b[1;33m[WARNING]: \u001b[0m\u001b[0;39minvalid value encountered in arccos\u001b[0m \u001b[0;36m(RuntimeWarning)\u001b[0m\n",
      "\u001b[1;33m[WARNING]: \u001b[0m\u001b[0;39minvalid value encountered in arccos\u001b[0m \u001b[0;36m(RuntimeWarning)\u001b[0m\n",
      "\u001b[1;33m[WARNING]: \u001b[0m\u001b[0;39minvalid value encountered in arccos\u001b[0m \u001b[0;36m(RuntimeWarning)\u001b[0m\n",
      "\u001b[1;33m[WARNING]: \u001b[0m\u001b[0;39minvalid value encountered in arccos\u001b[0m \u001b[0;36m(RuntimeWarning)\u001b[0m\n",
      "\u001b[1;33m[WARNING]: \u001b[0m\u001b[0;39minvalid value encountered in arccos\u001b[0m \u001b[0;36m(RuntimeWarning)\u001b[0m\n",
      "\u001b[1;33m[WARNING]: \u001b[0m\u001b[0;39minvalid value encountered in arccos\u001b[0m \u001b[0;36m(RuntimeWarning)\u001b[0m\n",
      "\u001b[1;33m[WARNING]: \u001b[0m\u001b[0;39minvalid value encountered in arccos\u001b[0m \u001b[0;36m(RuntimeWarning)\u001b[0m\n",
      "\u001b[1;33m[WARNING]: \u001b[0m\u001b[0;39minvalid value encountered in arccos\u001b[0m \u001b[0;36m(RuntimeWarning)\u001b[0m\n",
      "\u001b[1;33m[WARNING]: \u001b[0m\u001b[0;39minvalid value encountered in arccos\u001b[0m \u001b[0;36m(RuntimeWarning)\u001b[0m\n",
      "\u001b[1;33m[WARNING]: \u001b[0m\u001b[0;39minvalid value encountered in arccos\u001b[0m \u001b[0;36m(RuntimeWarning)\u001b[0m\n",
      "\u001b[1;33m[WARNING]: \u001b[0m\u001b[0;39minvalid value encountered in arccos\u001b[0m \u001b[0;36m(RuntimeWarning)\u001b[0m\n",
      "\u001b[1;33m[WARNING]: \u001b[0m\u001b[0;39minvalid value encountered in arccos\u001b[0m \u001b[0;36m(RuntimeWarning)\u001b[0m\n",
      "\u001b[1;33m[WARNING]: \u001b[0m\u001b[0;39minvalid value encountered in arccos\u001b[0m \u001b[0;36m(RuntimeWarning)\u001b[0m\n",
      "\u001b[1;33m[WARNING]: \u001b[0m\u001b[0;39minvalid value encountered in arccos\u001b[0m \u001b[0;36m(RuntimeWarning)\u001b[0m\n",
      "\u001b[1;33m[WARNING]: \u001b[0m\u001b[0;39minvalid value encountered in arccos\u001b[0m \u001b[0;36m(RuntimeWarning)\u001b[0m\n",
      "\u001b[1;33m[WARNING]: \u001b[0m\u001b[0;39minvalid value encountered in arccos\u001b[0m \u001b[0;36m(RuntimeWarning)\u001b[0m\n",
      "\u001b[1;33m[WARNING]: \u001b[0m\u001b[0;39minvalid value encountered in arccos\u001b[0m \u001b[0;36m(RuntimeWarning)\u001b[0m\n"
     ]
    },
    {
     "name": "stdout",
     "output_type": "stream",
     "text": [
      "Number of galaxies for which data could not be retrieved: 3820\n",
      "Elapsed time: 1859.8811161518097\n"
     ]
    }
   ],
   "source": [
    "params_list = []\n",
    "total_galaxies = 0\n",
    "successes = 0# Number of galaxies for which data was available\n",
    "exceptions = 0# Number of galaxies for which data was not available\n",
    "\n",
    "# Open and close FitParameters.txt every time; that might fix the disconnect/~memory issue\n",
    "\n",
    "with fits.open('drpall-v2_4_3.fits', memmap=True) as drpall:\n",
    "    for i in range(0,1):# Temporary; just to fix indentation issue quickly\n",
    "        data = drpall[1].data\n",
    "        c_table = Table.read('DRP-master_file_vflag_BB_smooth1p85_mapFit_N2O2_HIdr2_noWords_v5.txt',format='ascii.commented_header')\n",
    "        start = time.time()\n",
    "        for index in range(4987,len(data['plateifu'])):# Use this to iterate over every galaxy\n",
    "#         for index in range(0,1):\n",
    "            total_galaxies += 1\n",
    "            try:\n",
    "#             for i in range(0,1):# For testing only\n",
    "                plateifu = data['plateifu'][index]\n",
    "                plate,ifu = plateifu.split('-')\n",
    "                fit_parameters = find_gradient(plateifu,data,c_table)\n",
    "                N2p = fit_parameters['N2_params']\n",
    "                O3N2p = fit_parameters['O3N2_params']\n",
    "                N2O2p = fit_parameters['N2O2_params']\n",
    "#                 params_list.append([index,plateifu,N2p.slope,N2p.intercept,N2p.rvalue,N2p.pvalue,N2p.stderr,N2p.intercept_stderr,\n",
    "#                                       O3N2p.slope,O3N2p.intercept,O3N2p.rvalue,O3N2p.pvalue,O3N2p.stderr,O3N2p.intercept_stderr,\n",
    "#                                       N2O2p.slope,N2O2p.intercept,N2O2p.rvalue,N2O2p.pvalue,N2O2p.stderr,N2O2p.intercept_stderr])\n",
    "                addition= [index,plateifu,N2p.slope,N2p.intercept,N2p.rvalue,N2p.pvalue,N2p.stderr,N2p.intercept_stderr,\n",
    "                                      O3N2p.slope,O3N2p.intercept,O3N2p.rvalue,O3N2p.pvalue,O3N2p.stderr,O3N2p.intercept_stderr,\n",
    "                                      N2O2p.slope,N2O2p.intercept,N2O2p.rvalue,N2O2p.pvalue,N2O2p.stderr,N2O2p.intercept_stderr]\n",
    "                with open('FitParameters.txt','a') as param_file:\n",
    "                    param_file.write('\\n')\n",
    "                    for element in addition:#params_list[len(params_list)-1]:\n",
    "                        param_file.write(str(element) + ' ')\n",
    "#                     param_file.write('\\n' + str(params_list[len(params_list)-1]))\n",
    "                successes += 1\n",
    "            except Exception:\n",
    "                exceptions += 1\n",
    "        end = time.time()\n",
    "        print('Number of galaxies for which data could not be retrieved:',str(exceptions))\n",
    "        print('Elapsed time:',str(end - start))\n",
    "        # Checking for issues\n",
    "        if not exceptions+successes == total_galaxies:\n",
    "            print('Exceptions+successes does not equal total_galaxies')\n",
    "    \n",
    "#     # Determine and print the number of galaxies with negative metallicity gradient\n",
    "#     negatives = 0\n",
    "#     for i in range(0,len(gradient_list)):\n",
    "#         if gradient_list[i]['slope_N2'] < 0.0:\n",
    "#             negatives += 1\n",
    "#             print('Index:',i)\n",
    "#             print('Slope:',gradient_list[i]['slope_N2'],'\\n')\n",
    "#     print('Number of galaxies with negative metallicity gradient:',negatives,'out of',total_galaxies)\n",
    "#     print('Fraction of galaxies with negative metallicity gradient:',negatives/total_galaxies)"
   ]
  },
  {
   "cell_type": "code",
   "execution_count": 13,
   "metadata": {},
   "outputs": [],
   "source": [
    "# Number of galaxies for which data could not be retrieved: 53\n",
    "# Elapsed time: 22.54923415184021 \n",
    "\n",
    "# Index: 0\n",
    "# Slope: -0.07078364428412859 \n",
    "\n",
    "# Index: 13\n",
    "# Slope: -0.2734158900293699 \n",
    "\n",
    "# Index: 32\n",
    "# Slope: -0.05130774420463602 \n",
    "\n",
    "# Index: 37\n",
    "# Slope: -0.03218017080577616 \n",
    "\n",
    "# Index: 42\n",
    "# Slope: -0.1035295400220195 \n",
    "\n",
    "# Number of galaxies with negative metallicity gradient: 5 out of 47\n",
    "# Fraction of galaxies with negative metallicity gradient: 0.10638297872340426"
   ]
  },
  {
   "cell_type": "code",
   "execution_count": 3,
   "metadata": {},
   "outputs": [
    {
     "name": "stdout",
     "output_type": "stream",
     "text": [
      "Number of galaxies with negative slope: 760\n",
      "Fraction of galaxies with negative slope: 0.16111935552257792\n"
     ]
    }
   ],
   "source": [
    "# Count how many galaxies have negative trend line slopes for N2 and output their index, plateifu, and slope\n",
    "\n",
    "with open('FitParameters.txt','r') as param_file:\n",
    "    header = param_file.readline()\n",
    "    count = 0# Number of galaxies with negative slope\n",
    "    large_negatives = 0# Number of galaxies with slope less than -0.1\n",
    "    large_negatives_plateifu = []\n",
    "    for index in range(1,4717):\n",
    "        line = param_file.readline().split(' ')\n",
    "        if float(line[2]) < 0:\n",
    "            count += 1\n",
    "#             print('Index:',line[0])\n",
    "#             print('Plateifu:',line[1])\n",
    "#             print('Slope:',line[2]+'\\n')\n",
    "            if float(line[2]) < -0.1:\n",
    "                large_negatives += 1\n",
    "                large_negatives_plateifu.append(line[1])\n",
    "    print('Number of galaxies with negative slope:',count)\n",
    "    print('Fraction of galaxies with negative slope:',count/4717)\n",
    "#     print('Number of galaxies with slope less than -0.1:',large_negatives)\n",
    "#     print('Fraction of galaxies with slope less than -0.1:',large_negatives/4717)\n",
    "#     print(large_negatives_plateifu)"
   ]
  },
  {
   "cell_type": "code",
   "execution_count": null,
   "metadata": {},
   "outputs": [],
   "source": [
    "# Results from second-order N2 method:\n",
    "# Number of galaxies with negative slope: 760\n",
    "# Fraction of galaxies with negative slope: 0.16111935552257792\n",
    "\n",
    "# Results from linear N2 method:\n",
    "# Number of galaxies with negative slope: 751\n",
    "# Fraction of galaxies with negative slope: 0.15921136315454737\n",
    "\n",
    "# Possibly good galaxies:\n",
    "# 7992-12701\n",
    "# 8445-3701 Probably not this one. The normalized radius values are negative"
   ]
  },
  {
   "cell_type": "code",
   "execution_count": 4,
   "metadata": {},
   "outputs": [
    {
     "name": "stderr",
     "output_type": "stream",
     "text": [
      "\u001b[1;33m[WARNING]: \u001b[0m\u001b[0;39mOverflowError converting to FloatType in column N2_pvalue, possibly resulting in degraded precision.\u001b[0m \u001b[0;36m(AstropyWarning)\u001b[0m\n",
      "\u001b[1;33m[WARNING]: \u001b[0m\u001b[0;39mOverflowError converting to FloatType in column O3N2_pvalue, possibly resulting in degraded precision.\u001b[0m \u001b[0;36m(AstropyWarning)\u001b[0m\n",
      "\u001b[1;33m[WARNING]: \u001b[0m\u001b[0;39mOverflowError converting to FloatType in column N2O2_pvalue, possibly resulting in degraded precision.\u001b[0m \u001b[0;36m(AstropyWarning)\u001b[0m\n"
     ]
    },
    {
     "name": "stdout",
     "output_type": "stream",
     "text": [
      "-298.53894409600423\n",
      "730.7919167970337\n"
     ]
    }
   ],
   "source": [
    "# Create histogram of slopes for each metallicity method\n",
    "\n",
    "data = ascii.read('FitParameters.txt')\n",
    "N2_slope = data.columns['N2_slope']\n",
    "O3N2_slope = data.columns['O3N2_slope']\n",
    "N2O2_slope = data.columns['N2O2_slope']\n",
    "\n",
    "# print(min(N2_slope))\n",
    "# print(max(N2_slope))\n",
    "\n",
    "plt.hist(N2_slope,bins=np.linspace(-1,2,100))#,bins,alpha=0.5,weights=weights[3],label='SDSS DR7',color='gray',density=True)\n",
    "plt.xlabel('Slope of Line of Best Fit')\n",
    "plt.ylabel('Number of Galaxies')\n",
    "plt.title('N2 Metallicity Gradient of MaNGA Galaxies')\n",
    "plt.savefig('PosterMaps_Updated/SlopeHistogram_N2')\n",
    "plt.close()\n",
    "\n",
    "plt.hist(O3N2_slope,bins=np.linspace(-1,2,100))#,bins,alpha=0.5,weights=weights[3],label='SDSS DR7',color='gray',density=True)\n",
    "plt.xlabel('Slope of Line of Best Fit')\n",
    "plt.ylabel('Number of Galaxies')\n",
    "plt.title('O3N2 Metallicity Gradient of MaNGA Galaxies')\n",
    "plt.savefig('PosterMaps_Updated/SlopeHistogram_O3N2')\n",
    "plt.close()\n",
    "\n",
    "plt.hist(N2O2_slope,bins=np.linspace(-1,2,100))#,bins,alpha=0.5,weights=weights[3],label='SDSS DR7',color='gray',density=True)\n",
    "plt.xlabel('Slope of Line of Best Fit')\n",
    "plt.ylabel('Number of Galaxies')\n",
    "plt.title('N2O2 Metallicity Gradient of MaNGA Galaxies')\n",
    "plt.savefig('PosterMaps_Updated/SlopeHistogram_N2O2')\n",
    "plt.close()"
   ]
  },
  {
   "cell_type": "code",
   "execution_count": 8,
   "metadata": {},
   "outputs": [
    {
     "data": {
      "text/plain": [
       "-0.07078364428412853"
      ]
     },
     "execution_count": 8,
     "metadata": {},
     "output_type": "execute_result"
    }
   ],
   "source": [
    "# data[0]['N2_slope']"
   ]
  },
  {
   "cell_type": "code",
   "execution_count": null,
   "metadata": {},
   "outputs": [],
   "source": []
  }
 ],
 "metadata": {
  "kernelspec": {
   "display_name": "Python 3 (3.9.5)",
   "language": "python",
   "name": "python3-3.9.5"
  },
  "language_info": {
   "codemirror_mode": {
    "name": "ipython",
    "version": 3
   },
   "file_extension": ".py",
   "mimetype": "text/x-python",
   "name": "python",
   "nbconvert_exporter": "python",
   "pygments_lexer": "ipython3",
   "version": "3.9.5"
  }
 },
 "nbformat": 4,
 "nbformat_minor": 2
}
